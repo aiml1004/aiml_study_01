{
 "cells": [
  {
   "cell_type": "code",
   "execution_count": null,
   "metadata": {},
   "outputs": [],
   "source": [
    "# GridSpec\n",
    "# https://riptutorial.com/ko/matplotlib/example/20875/gridspec%EC%9D%84-%EC%82%AC%EC%9A%A9%ED%95%9C-%EB%8B%A4%EC%A4%91-%ED%94%8C%EB%A1%AF"
   ]
  },
  {
   "cell_type": "code",
   "execution_count": 8,
   "metadata": {},
   "outputs": [],
   "source": [
    "%matplotlib inline"
   ]
  },
  {
   "cell_type": "code",
   "execution_count": 9,
   "metadata": {},
   "outputs": [],
   "source": [
    "import numpy as np\n",
    "import matplotlib.pyplot as plt\n",
    "from matplotlib.gridspec import  GridSpec\n",
    "\n",
    "# Make some data\n",
    "t = np.arange(0, 2, 0.01)\n",
    "y1 = np.sin(2*np.pi * t)\n",
    "y2 = np.cos(2*np.pi * t)\n",
    "y3 = np.exp(t)\n",
    "y4 = np.exp(-t)\n"
   ]
  },
  {
   "cell_type": "code",
   "execution_count": 10,
   "metadata": {},
   "outputs": [],
   "source": [
    "# Initialize the grid with 3 rows and 3 columns\n",
    "ncols = 3\n",
    "nrows = 3\n",
    "grid = GridSpec(nrows, ncols,\n",
    "                left=0.1, bottom=0.15, right=0.94, top=0.94, wspace=0.3, hspace=0.3)"
   ]
  },
  {
   "cell_type": "code",
   "execution_count": 11,
   "metadata": {},
   "outputs": [
    {
     "data": {
      "text/plain": [
       "GridSpec(3, 3)"
      ]
     },
     "execution_count": 11,
     "metadata": {},
     "output_type": "execute_result"
    }
   ],
   "source": [
    "grid"
   ]
  },
  {
   "cell_type": "code",
   "execution_count": 12,
   "metadata": {},
   "outputs": [
    {
     "data": {
      "text/plain": [
       "<Figure size 432x288 with 0 Axes>"
      ]
     },
     "metadata": {},
     "output_type": "display_data"
    }
   ],
   "source": [
    "fig = plt.figure(0)\n",
    "fig.clf()"
   ]
  },
  {
   "cell_type": "code",
   "execution_count": 13,
   "metadata": {},
   "outputs": [],
   "source": [
    "# Add axes which can span multiple grid boxes\n",
    "ax1 = fig.add_subplot(grid[0:2, 0:2])\n",
    "ax2 = fig.add_subplot(grid[0:2, 2])\n",
    "ax3 = fig.add_subplot(grid[2, 0:2])\n",
    "ax4 = fig.add_subplot(grid[2, 2])"
   ]
  },
  {
   "cell_type": "code",
   "execution_count": null,
   "metadata": {},
   "outputs": [],
   "source": []
  },
  {
   "cell_type": "code",
   "execution_count": null,
   "metadata": {},
   "outputs": [],
   "source": []
  },
  {
   "cell_type": "code",
   "execution_count": 14,
   "metadata": {},
   "outputs": [
    {
     "data": {
      "text/plain": [
       "Text(0.5, 0, 'Time (s)')"
      ]
     },
     "execution_count": 14,
     "metadata": {},
     "output_type": "execute_result"
    }
   ],
   "source": [
    "ax1.plot(t, y1, color='royalblue')\n",
    "ax2.plot(t, y2, color='forestgreen')\n",
    "ax3.plot(t, y3, color='darkorange')\n",
    "ax4.plot(t, y4, color='darkmagenta')\n",
    "\n",
    "# Add labels and titles\n",
    "fig.suptitle('Figure with Subplots')\n",
    "ax1.set_ylabel('Voltage (V)')\n",
    "ax3.set_ylabel('Voltage (V)')\n",
    "ax3.set_xlabel('Time (s)')\n",
    "ax4.set_xlabel('Time (s)')"
   ]
  },
  {
   "cell_type": "code",
   "execution_count": 15,
   "metadata": {},
   "outputs": [],
   "source": [
    "plt.show()"
   ]
  },
  {
   "cell_type": "code",
   "execution_count": null,
   "metadata": {},
   "outputs": [],
   "source": []
  },
  {
   "cell_type": "code",
   "execution_count": null,
   "metadata": {},
   "outputs": [],
   "source": []
  },
  {
   "cell_type": "code",
   "execution_count": null,
   "metadata": {},
   "outputs": [],
   "source": []
  }
 ],
 "metadata": {
  "kernelspec": {
   "display_name": "book",
   "language": "python",
   "name": "book"
  },
  "language_info": {
   "codemirror_mode": {
    "name": "ipython",
    "version": 3
   },
   "file_extension": ".py",
   "mimetype": "text/x-python",
   "name": "python",
   "nbconvert_exporter": "python",
   "pygments_lexer": "ipython3",
   "version": "3.6.12"
  }
 },
 "nbformat": 4,
 "nbformat_minor": 4
}
