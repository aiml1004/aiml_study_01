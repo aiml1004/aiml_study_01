{
 "cells": [
  {
   "cell_type": "markdown",
   "metadata": {},
   "source": [
    "https://www.kdnuggets.com/2016/04/regression-correlation-military-tutorial.html"
   ]
  },
  {
   "cell_type": "markdown",
   "metadata": {},
   "source": [
    "https://chrisalbon.com/machine_learning/basics/make_simulated_data_for_regression/"
   ]
  },
  {
   "cell_type": "raw",
   "metadata": {},
   "source": [
    "import pandas as pd\n",
    "from sklearn.datasets import make_regression"
   ]
  },
  {
   "cell_type": "code",
   "execution_count": 122,
   "metadata": {},
   "outputs": [],
   "source": [
    "# Generate fetures, outputs, and true coefficient of 100 samples,\n",
    "features, output, coef = make_regression(n_samples = 100,\n",
    "                                         # three features\n",
    "                                         n_features = 4,\n",
    "                                         # where only two features are useful,\n",
    "                                         n_informative = 2,\n",
    "                                         # a single target value per observation\n",
    "                                         n_targets = 1,\n",
    "                                         # 0.0 standard deviation of the guassian noise\n",
    "                                         noise = 0.05,\n",
    "                                         # show the true coefficient used to generated the data\n",
    "                                         coef = True)"
   ]
  },
  {
   "cell_type": "code",
   "execution_count": 123,
   "metadata": {},
   "outputs": [],
   "source": [
    "# make_regression?"
   ]
  },
  {
   "cell_type": "code",
   "execution_count": 124,
   "metadata": {},
   "outputs": [
    {
     "data": {
      "text/plain": [
       "numpy.ndarray"
      ]
     },
     "execution_count": 124,
     "metadata": {},
     "output_type": "execute_result"
    }
   ],
   "source": [
    "type(features)"
   ]
  },
  {
   "cell_type": "code",
   "execution_count": 125,
   "metadata": {},
   "outputs": [
    {
     "data": {
      "text/plain": [
       "(100, 4)"
      ]
     },
     "execution_count": 125,
     "metadata": {},
     "output_type": "execute_result"
    }
   ],
   "source": [
    "features.shape"
   ]
  },
  {
   "cell_type": "code",
   "execution_count": 126,
   "metadata": {},
   "outputs": [
    {
     "data": {
      "text/html": [
       "<div>\n",
       "<style scoped>\n",
       "    .dataframe tbody tr th:only-of-type {\n",
       "        vertical-align: middle;\n",
       "    }\n",
       "\n",
       "    .dataframe tbody tr th {\n",
       "        vertical-align: top;\n",
       "    }\n",
       "\n",
       "    .dataframe thead th {\n",
       "        text-align: right;\n",
       "    }\n",
       "</style>\n",
       "<table border=\"1\" class=\"dataframe\">\n",
       "  <thead>\n",
       "    <tr style=\"text-align: right;\">\n",
       "      <th></th>\n",
       "      <th>0</th>\n",
       "      <th>1</th>\n",
       "      <th>2</th>\n",
       "      <th>3</th>\n",
       "    </tr>\n",
       "  </thead>\n",
       "  <tbody>\n",
       "    <tr>\n",
       "      <th>0</th>\n",
       "      <td>0.090890</td>\n",
       "      <td>-0.834129</td>\n",
       "      <td>-0.395749</td>\n",
       "      <td>-0.157402</td>\n",
       "    </tr>\n",
       "    <tr>\n",
       "      <th>1</th>\n",
       "      <td>-0.058114</td>\n",
       "      <td>0.845277</td>\n",
       "      <td>-0.210012</td>\n",
       "      <td>1.674146</td>\n",
       "    </tr>\n",
       "    <tr>\n",
       "      <th>2</th>\n",
       "      <td>0.698483</td>\n",
       "      <td>-0.646179</td>\n",
       "      <td>1.305023</td>\n",
       "      <td>1.084893</td>\n",
       "    </tr>\n",
       "    <tr>\n",
       "      <th>3</th>\n",
       "      <td>0.037149</td>\n",
       "      <td>-0.454120</td>\n",
       "      <td>-0.400541</td>\n",
       "      <td>-1.009416</td>\n",
       "    </tr>\n",
       "    <tr>\n",
       "      <th>4</th>\n",
       "      <td>-0.183731</td>\n",
       "      <td>0.500764</td>\n",
       "      <td>-1.025389</td>\n",
       "      <td>-0.250839</td>\n",
       "    </tr>\n",
       "    <tr>\n",
       "      <th>...</th>\n",
       "      <td>...</td>\n",
       "      <td>...</td>\n",
       "      <td>...</td>\n",
       "      <td>...</td>\n",
       "    </tr>\n",
       "    <tr>\n",
       "      <th>95</th>\n",
       "      <td>0.547512</td>\n",
       "      <td>0.443287</td>\n",
       "      <td>-0.105424</td>\n",
       "      <td>-0.455539</td>\n",
       "    </tr>\n",
       "    <tr>\n",
       "      <th>96</th>\n",
       "      <td>0.699326</td>\n",
       "      <td>0.731850</td>\n",
       "      <td>0.487942</td>\n",
       "      <td>0.051156</td>\n",
       "    </tr>\n",
       "    <tr>\n",
       "      <th>97</th>\n",
       "      <td>1.253975</td>\n",
       "      <td>0.467335</td>\n",
       "      <td>-2.522359</td>\n",
       "      <td>1.308021</td>\n",
       "    </tr>\n",
       "    <tr>\n",
       "      <th>98</th>\n",
       "      <td>-0.336087</td>\n",
       "      <td>-1.598526</td>\n",
       "      <td>-1.905243</td>\n",
       "      <td>-0.656353</td>\n",
       "    </tr>\n",
       "    <tr>\n",
       "      <th>99</th>\n",
       "      <td>0.921775</td>\n",
       "      <td>0.103200</td>\n",
       "      <td>-0.640436</td>\n",
       "      <td>-0.924488</td>\n",
       "    </tr>\n",
       "  </tbody>\n",
       "</table>\n",
       "<p>100 rows × 4 columns</p>\n",
       "</div>"
      ],
      "text/plain": [
       "           0         1         2         3\n",
       "0   0.090890 -0.834129 -0.395749 -0.157402\n",
       "1  -0.058114  0.845277 -0.210012  1.674146\n",
       "2   0.698483 -0.646179  1.305023  1.084893\n",
       "3   0.037149 -0.454120 -0.400541 -1.009416\n",
       "4  -0.183731  0.500764 -1.025389 -0.250839\n",
       "..       ...       ...       ...       ...\n",
       "95  0.547512  0.443287 -0.105424 -0.455539\n",
       "96  0.699326  0.731850  0.487942  0.051156\n",
       "97  1.253975  0.467335 -2.522359  1.308021\n",
       "98 -0.336087 -1.598526 -1.905243 -0.656353\n",
       "99  0.921775  0.103200 -0.640436 -0.924488\n",
       "\n",
       "[100 rows x 4 columns]"
      ]
     },
     "execution_count": 126,
     "metadata": {},
     "output_type": "execute_result"
    }
   ],
   "source": [
    "pd.DataFrame(features)"
   ]
  },
  {
   "cell_type": "code",
   "execution_count": 127,
   "metadata": {},
   "outputs": [
    {
     "data": {
      "text/html": [
       "<div>\n",
       "<style scoped>\n",
       "    .dataframe tbody tr th:only-of-type {\n",
       "        vertical-align: middle;\n",
       "    }\n",
       "\n",
       "    .dataframe tbody tr th {\n",
       "        vertical-align: top;\n",
       "    }\n",
       "\n",
       "    .dataframe thead th {\n",
       "        text-align: right;\n",
       "    }\n",
       "</style>\n",
       "<table border=\"1\" class=\"dataframe\">\n",
       "  <thead>\n",
       "    <tr style=\"text-align: right;\">\n",
       "      <th></th>\n",
       "      <th>col1</th>\n",
       "      <th>col2</th>\n",
       "      <th>col3</th>\n",
       "      <th>col4</th>\n",
       "    </tr>\n",
       "  </thead>\n",
       "  <tbody>\n",
       "    <tr>\n",
       "      <th>0</th>\n",
       "      <td>0.090890</td>\n",
       "      <td>-0.834129</td>\n",
       "      <td>-0.395749</td>\n",
       "      <td>-0.157402</td>\n",
       "    </tr>\n",
       "    <tr>\n",
       "      <th>1</th>\n",
       "      <td>-0.058114</td>\n",
       "      <td>0.845277</td>\n",
       "      <td>-0.210012</td>\n",
       "      <td>1.674146</td>\n",
       "    </tr>\n",
       "    <tr>\n",
       "      <th>2</th>\n",
       "      <td>0.698483</td>\n",
       "      <td>-0.646179</td>\n",
       "      <td>1.305023</td>\n",
       "      <td>1.084893</td>\n",
       "    </tr>\n",
       "    <tr>\n",
       "      <th>3</th>\n",
       "      <td>0.037149</td>\n",
       "      <td>-0.454120</td>\n",
       "      <td>-0.400541</td>\n",
       "      <td>-1.009416</td>\n",
       "    </tr>\n",
       "    <tr>\n",
       "      <th>4</th>\n",
       "      <td>-0.183731</td>\n",
       "      <td>0.500764</td>\n",
       "      <td>-1.025389</td>\n",
       "      <td>-0.250839</td>\n",
       "    </tr>\n",
       "  </tbody>\n",
       "</table>\n",
       "</div>"
      ],
      "text/plain": [
       "       col1      col2      col3      col4\n",
       "0  0.090890 -0.834129 -0.395749 -0.157402\n",
       "1 -0.058114  0.845277 -0.210012  1.674146\n",
       "2  0.698483 -0.646179  1.305023  1.084893\n",
       "3  0.037149 -0.454120 -0.400541 -1.009416\n",
       "4 -0.183731  0.500764 -1.025389 -0.250839"
      ]
     },
     "execution_count": 127,
     "metadata": {},
     "output_type": "execute_result"
    }
   ],
   "source": [
    "df_x = pd.DataFrame(features, columns=['col1', 'col2', 'col3', 'col4'])\n",
    "df_x.head()"
   ]
  },
  {
   "cell_type": "code",
   "execution_count": null,
   "metadata": {},
   "outputs": [],
   "source": []
  },
  {
   "cell_type": "code",
   "execution_count": 128,
   "metadata": {},
   "outputs": [
    {
     "data": {
      "text/html": [
       "<div>\n",
       "<style scoped>\n",
       "    .dataframe tbody tr th:only-of-type {\n",
       "        vertical-align: middle;\n",
       "    }\n",
       "\n",
       "    .dataframe tbody tr th {\n",
       "        vertical-align: top;\n",
       "    }\n",
       "\n",
       "    .dataframe thead th {\n",
       "        text-align: right;\n",
       "    }\n",
       "</style>\n",
       "<table border=\"1\" class=\"dataframe\">\n",
       "  <thead>\n",
       "    <tr style=\"text-align: right;\">\n",
       "      <th></th>\n",
       "      <th>target</th>\n",
       "    </tr>\n",
       "  </thead>\n",
       "  <tbody>\n",
       "    <tr>\n",
       "      <th>0</th>\n",
       "      <td>-7.327345</td>\n",
       "    </tr>\n",
       "    <tr>\n",
       "      <th>1</th>\n",
       "      <td>80.317248</td>\n",
       "    </tr>\n",
       "    <tr>\n",
       "      <th>2</th>\n",
       "      <td>53.784497</td>\n",
       "    </tr>\n",
       "    <tr>\n",
       "      <th>3</th>\n",
       "      <td>-48.348069</td>\n",
       "    </tr>\n",
       "    <tr>\n",
       "      <th>4</th>\n",
       "      <td>-12.473097</td>\n",
       "    </tr>\n",
       "  </tbody>\n",
       "</table>\n",
       "</div>"
      ],
      "text/plain": [
       "      target\n",
       "0  -7.327345\n",
       "1  80.317248\n",
       "2  53.784497\n",
       "3 -48.348069\n",
       "4 -12.473097"
      ]
     },
     "execution_count": 128,
     "metadata": {},
     "output_type": "execute_result"
    }
   ],
   "source": [
    "df_y = pd.DataFrame(output, columns=['target'])\n",
    "df_y.head()"
   ]
  },
  {
   "cell_type": "code",
   "execution_count": 129,
   "metadata": {},
   "outputs": [],
   "source": [
    "df = pd.merge(df_x,df_y, how=\"outer\", left_index=True, right_index=True)"
   ]
  },
  {
   "cell_type": "code",
   "execution_count": 130,
   "metadata": {},
   "outputs": [
    {
     "data": {
      "text/html": [
       "<div>\n",
       "<style scoped>\n",
       "    .dataframe tbody tr th:only-of-type {\n",
       "        vertical-align: middle;\n",
       "    }\n",
       "\n",
       "    .dataframe tbody tr th {\n",
       "        vertical-align: top;\n",
       "    }\n",
       "\n",
       "    .dataframe thead th {\n",
       "        text-align: right;\n",
       "    }\n",
       "</style>\n",
       "<table border=\"1\" class=\"dataframe\">\n",
       "  <thead>\n",
       "    <tr style=\"text-align: right;\">\n",
       "      <th></th>\n",
       "      <th>col1</th>\n",
       "      <th>col2</th>\n",
       "      <th>col3</th>\n",
       "      <th>col4</th>\n",
       "      <th>target</th>\n",
       "    </tr>\n",
       "  </thead>\n",
       "  <tbody>\n",
       "    <tr>\n",
       "      <th>0</th>\n",
       "      <td>0.090890</td>\n",
       "      <td>-0.834129</td>\n",
       "      <td>-0.395749</td>\n",
       "      <td>-0.157402</td>\n",
       "      <td>-7.327345</td>\n",
       "    </tr>\n",
       "    <tr>\n",
       "      <th>1</th>\n",
       "      <td>-0.058114</td>\n",
       "      <td>0.845277</td>\n",
       "      <td>-0.210012</td>\n",
       "      <td>1.674146</td>\n",
       "      <td>80.317248</td>\n",
       "    </tr>\n",
       "    <tr>\n",
       "      <th>2</th>\n",
       "      <td>0.698483</td>\n",
       "      <td>-0.646179</td>\n",
       "      <td>1.305023</td>\n",
       "      <td>1.084893</td>\n",
       "      <td>53.784497</td>\n",
       "    </tr>\n",
       "    <tr>\n",
       "      <th>3</th>\n",
       "      <td>0.037149</td>\n",
       "      <td>-0.454120</td>\n",
       "      <td>-0.400541</td>\n",
       "      <td>-1.009416</td>\n",
       "      <td>-48.348069</td>\n",
       "    </tr>\n",
       "    <tr>\n",
       "      <th>4</th>\n",
       "      <td>-0.183731</td>\n",
       "      <td>0.500764</td>\n",
       "      <td>-1.025389</td>\n",
       "      <td>-0.250839</td>\n",
       "      <td>-12.473097</td>\n",
       "    </tr>\n",
       "  </tbody>\n",
       "</table>\n",
       "</div>"
      ],
      "text/plain": [
       "       col1      col2      col3      col4     target\n",
       "0  0.090890 -0.834129 -0.395749 -0.157402  -7.327345\n",
       "1 -0.058114  0.845277 -0.210012  1.674146  80.317248\n",
       "2  0.698483 -0.646179  1.305023  1.084893  53.784497\n",
       "3  0.037149 -0.454120 -0.400541 -1.009416 -48.348069\n",
       "4 -0.183731  0.500764 -1.025389 -0.250839 -12.473097"
      ]
     },
     "execution_count": 130,
     "metadata": {},
     "output_type": "execute_result"
    }
   ],
   "source": [
    "df.head()"
   ]
  },
  {
   "cell_type": "code",
   "execution_count": 131,
   "metadata": {},
   "outputs": [
    {
     "data": {
      "text/html": [
       "<div>\n",
       "<style scoped>\n",
       "    .dataframe tbody tr th:only-of-type {\n",
       "        vertical-align: middle;\n",
       "    }\n",
       "\n",
       "    .dataframe tbody tr th {\n",
       "        vertical-align: top;\n",
       "    }\n",
       "\n",
       "    .dataframe thead th {\n",
       "        text-align: right;\n",
       "    }\n",
       "</style>\n",
       "<table border=\"1\" class=\"dataframe\">\n",
       "  <thead>\n",
       "    <tr style=\"text-align: right;\">\n",
       "      <th></th>\n",
       "      <th>col1</th>\n",
       "      <th>col2</th>\n",
       "      <th>col3</th>\n",
       "      <th>col4</th>\n",
       "      <th>target</th>\n",
       "    </tr>\n",
       "  </thead>\n",
       "  <tbody>\n",
       "    <tr>\n",
       "      <th>count</th>\n",
       "      <td>100.000000</td>\n",
       "      <td>100.000000</td>\n",
       "      <td>100.000000</td>\n",
       "      <td>100.000000</td>\n",
       "      <td>100.000000</td>\n",
       "    </tr>\n",
       "    <tr>\n",
       "      <th>mean</th>\n",
       "      <td>0.147619</td>\n",
       "      <td>-0.117122</td>\n",
       "      <td>-0.086679</td>\n",
       "      <td>0.022793</td>\n",
       "      <td>1.456798</td>\n",
       "    </tr>\n",
       "    <tr>\n",
       "      <th>std</th>\n",
       "      <td>1.005218</td>\n",
       "      <td>1.001476</td>\n",
       "      <td>0.975964</td>\n",
       "      <td>1.084677</td>\n",
       "      <td>52.429399</td>\n",
       "    </tr>\n",
       "    <tr>\n",
       "      <th>min</th>\n",
       "      <td>-2.525638</td>\n",
       "      <td>-2.335836</td>\n",
       "      <td>-2.522359</td>\n",
       "      <td>-2.123632</td>\n",
       "      <td>-99.254262</td>\n",
       "    </tr>\n",
       "    <tr>\n",
       "      <th>25%</th>\n",
       "      <td>-0.350613</td>\n",
       "      <td>-0.666895</td>\n",
       "      <td>-0.592433</td>\n",
       "      <td>-0.766886</td>\n",
       "      <td>-38.055922</td>\n",
       "    </tr>\n",
       "    <tr>\n",
       "      <th>50%</th>\n",
       "      <td>0.050321</td>\n",
       "      <td>-0.000856</td>\n",
       "      <td>-0.024889</td>\n",
       "      <td>-0.065154</td>\n",
       "      <td>-2.888290</td>\n",
       "    </tr>\n",
       "    <tr>\n",
       "      <th>75%</th>\n",
       "      <td>0.685460</td>\n",
       "      <td>0.503847</td>\n",
       "      <td>0.480195</td>\n",
       "      <td>0.813383</td>\n",
       "      <td>39.613695</td>\n",
       "    </tr>\n",
       "    <tr>\n",
       "      <th>max</th>\n",
       "      <td>2.937725</td>\n",
       "      <td>2.410667</td>\n",
       "      <td>2.607999</td>\n",
       "      <td>3.068879</td>\n",
       "      <td>146.699846</td>\n",
       "    </tr>\n",
       "  </tbody>\n",
       "</table>\n",
       "</div>"
      ],
      "text/plain": [
       "             col1        col2        col3        col4      target\n",
       "count  100.000000  100.000000  100.000000  100.000000  100.000000\n",
       "mean     0.147619   -0.117122   -0.086679    0.022793    1.456798\n",
       "std      1.005218    1.001476    0.975964    1.084677   52.429399\n",
       "min     -2.525638   -2.335836   -2.522359   -2.123632  -99.254262\n",
       "25%     -0.350613   -0.666895   -0.592433   -0.766886  -38.055922\n",
       "50%      0.050321   -0.000856   -0.024889   -0.065154   -2.888290\n",
       "75%      0.685460    0.503847    0.480195    0.813383   39.613695\n",
       "max      2.937725    2.410667    2.607999    3.068879  146.699846"
      ]
     },
     "execution_count": 131,
     "metadata": {},
     "output_type": "execute_result"
    }
   ],
   "source": [
    "df.describe()"
   ]
  },
  {
   "cell_type": "code",
   "execution_count": 132,
   "metadata": {},
   "outputs": [
    {
     "data": {
      "text/plain": [
       "<AxesSubplot:xlabel='col1', ylabel='target'>"
      ]
     },
     "execution_count": 132,
     "metadata": {},
     "output_type": "execute_result"
    },
    {
     "data": {
      "image/png": "[encoded data removed]",
      "text/plain": [
       "<Figure size 864x504 with 1 Axes>"
      ]
     },
     "metadata": {
      "needs_background": "light"
     },
     "output_type": "display_data"
    }
   ],
   "source": [
    "#  xlim=(0.0, 1.0), ylim=(1.8, -0.8), , alpha=plot_alpha   , s=2\n",
    "df.plot.scatter('col1', 'target', figsize=(12, 7))"
   ]
  },
  {
   "cell_type": "code",
   "execution_count": 133,
   "metadata": {},
   "outputs": [
    {
     "data": {
      "text/plain": [
       "<AxesSubplot:xlabel='col2', ylabel='target'>"
      ]
     },
     "execution_count": 133,
     "metadata": {},
     "output_type": "execute_result"
    },
    {
     "data": {
      "image/png": "[encoded data removed]",
      "text/plain": [
       "<Figure size 864x504 with 1 Axes>"
      ]
     },
     "metadata": {
      "needs_background": "light"
     },
     "output_type": "display_data"
    }
   ],
   "source": [
    "df.plot.scatter('col2', 'target', figsize=(12, 7))"
   ]
  },
  {
   "cell_type": "code",
   "execution_count": null,
   "metadata": {},
   "outputs": [],
   "source": []
  },
  {
   "cell_type": "code",
   "execution_count": 134,
   "metadata": {},
   "outputs": [
    {
     "data": {
      "text/plain": [
       "<AxesSubplot:xlabel='col3', ylabel='target'>"
      ]
     },
     "execution_count": 134,
     "metadata": {},
     "output_type": "execute_result"
    },
    {
     "data": {
      "image/png": "[encoded data removed]",
      "text/plain": [
       "<Figure size 864x504 with 1 Axes>"
      ]
     },
     "metadata": {
      "needs_background": "light"
     },
     "output_type": "display_data"
    }
   ],
   "source": [
    "df.plot.scatter('col3', 'target', figsize=(12, 7))"
   ]
  },
  {
   "cell_type": "code",
   "execution_count": 135,
   "metadata": {},
   "outputs": [
    {
     "data": {
      "text/plain": [
       "<AxesSubplot:xlabel='col4', ylabel='target'>"
      ]
     },
     "execution_count": 135,
     "metadata": {},
     "output_type": "execute_result"
    },
    {
     "data": {
      "image/png": "[encoded data removed]",
      "text/plain": [
       "<Figure size 864x504 with 1 Axes>"
      ]
     },
     "metadata": {
      "needs_background": "light"
     },
     "output_type": "display_data"
    }
   ],
   "source": [
    "#  xlim=(0.0, 1.0), ylim=(1.8, -0.8), , alpha=plot_alpha   , s=2\n",
    "df.plot.scatter('col4', 'target', figsize=(12, 7))"
   ]
  },
  {
   "cell_type": "code",
   "execution_count": null,
   "metadata": {},
   "outputs": [],
   "source": []
  },
  {
   "cell_type": "code",
   "execution_count": 136,
   "metadata": {},
   "outputs": [],
   "source": [
    "df.to_excel('038_회귀.xlsx' , index= False)"
   ]
  },
  {
   "cell_type": "code",
   "execution_count": 137,
   "metadata": {},
   "outputs": [],
   "source": [
    "df = pd.read_excel('038_회귀.xlsx')"
   ]
  },
  {
   "cell_type": "code",
   "execution_count": 138,
   "metadata": {},
   "outputs": [
    {
     "data": {
      "text/html": [
       "<div>\n",
       "<style scoped>\n",
       "    .dataframe tbody tr th:only-of-type {\n",
       "        vertical-align: middle;\n",
       "    }\n",
       "\n",
       "    .dataframe tbody tr th {\n",
       "        vertical-align: top;\n",
       "    }\n",
       "\n",
       "    .dataframe thead th {\n",
       "        text-align: right;\n",
       "    }\n",
       "</style>\n",
       "<table border=\"1\" class=\"dataframe\">\n",
       "  <thead>\n",
       "    <tr style=\"text-align: right;\">\n",
       "      <th></th>\n",
       "      <th>col1</th>\n",
       "      <th>col2</th>\n",
       "      <th>col3</th>\n",
       "      <th>col4</th>\n",
       "      <th>target</th>\n",
       "    </tr>\n",
       "  </thead>\n",
       "  <tbody>\n",
       "    <tr>\n",
       "      <th>0</th>\n",
       "      <td>0.090890</td>\n",
       "      <td>-0.834129</td>\n",
       "      <td>-0.395749</td>\n",
       "      <td>-0.157402</td>\n",
       "      <td>-7.327345</td>\n",
       "    </tr>\n",
       "    <tr>\n",
       "      <th>1</th>\n",
       "      <td>-0.058114</td>\n",
       "      <td>0.845277</td>\n",
       "      <td>-0.210012</td>\n",
       "      <td>1.674146</td>\n",
       "      <td>80.317248</td>\n",
       "    </tr>\n",
       "    <tr>\n",
       "      <th>2</th>\n",
       "      <td>0.698483</td>\n",
       "      <td>-0.646179</td>\n",
       "      <td>1.305023</td>\n",
       "      <td>1.084893</td>\n",
       "      <td>53.784497</td>\n",
       "    </tr>\n",
       "    <tr>\n",
       "      <th>3</th>\n",
       "      <td>0.037149</td>\n",
       "      <td>-0.454120</td>\n",
       "      <td>-0.400541</td>\n",
       "      <td>-1.009416</td>\n",
       "      <td>-48.348069</td>\n",
       "    </tr>\n",
       "    <tr>\n",
       "      <th>4</th>\n",
       "      <td>-0.183731</td>\n",
       "      <td>0.500764</td>\n",
       "      <td>-1.025389</td>\n",
       "      <td>-0.250839</td>\n",
       "      <td>-12.473097</td>\n",
       "    </tr>\n",
       "  </tbody>\n",
       "</table>\n",
       "</div>"
      ],
      "text/plain": [
       "       col1      col2      col3      col4     target\n",
       "0  0.090890 -0.834129 -0.395749 -0.157402  -7.327345\n",
       "1 -0.058114  0.845277 -0.210012  1.674146  80.317248\n",
       "2  0.698483 -0.646179  1.305023  1.084893  53.784497\n",
       "3  0.037149 -0.454120 -0.400541 -1.009416 -48.348069\n",
       "4 -0.183731  0.500764 -1.025389 -0.250839 -12.473097"
      ]
     },
     "execution_count": 138,
     "metadata": {},
     "output_type": "execute_result"
    }
   ],
   "source": [
    "df.head()"
   ]
  },
  {
   "cell_type": "code",
   "execution_count": null,
   "metadata": {},
   "outputs": [],
   "source": []
  },
  {
   "cell_type": "code",
   "execution_count": 139,
   "metadata": {},
   "outputs": [],
   "source": [
    "dataset = df.values"
   ]
  },
  {
   "cell_type": "markdown",
   "metadata": {},
   "source": [
    "### target - 지휘관_잠재력 전처리"
   ]
  },
  {
   "cell_type": "code",
   "execution_count": 140,
   "metadata": {},
   "outputs": [],
   "source": [
    "from sklearn.preprocessing import MinMaxScaler"
   ]
  },
  {
   "cell_type": "code",
   "execution_count": 141,
   "metadata": {},
   "outputs": [
    {
     "data": {
      "text/plain": [
       "array([[ -7.32734467],\n",
       "       [ 80.31724822],\n",
       "       [ 53.78449705],\n",
       "       [-48.34806852]])"
      ]
     },
     "execution_count": 141,
     "metadata": {},
     "output_type": "execute_result"
    }
   ],
   "source": [
    "arr_y = dataset[:,4:5] # 행, 열\n",
    "arr_y[:4]"
   ]
  },
  {
   "cell_type": "code",
   "execution_count": 142,
   "metadata": {},
   "outputs": [],
   "source": [
    "scaler = MinMaxScaler(feature_range=(62, 100))"
   ]
  },
  {
   "cell_type": "code",
   "execution_count": 143,
   "metadata": {},
   "outputs": [
    {
     "data": {
      "text/plain": [
       "MinMaxScaler(feature_range=(62, 100))"
      ]
     },
     "execution_count": 143,
     "metadata": {},
     "output_type": "execute_result"
    }
   ],
   "source": [
    "scaler.fit(arr_y)"
   ]
  },
  {
   "cell_type": "code",
   "execution_count": 144,
   "metadata": {},
   "outputs": [],
   "source": [
    "my_y = scaler.transform(arr_y)"
   ]
  },
  {
   "cell_type": "code",
   "execution_count": 145,
   "metadata": {},
   "outputs": [
    {
     "data": {
      "text/plain": [
       "array([[76.20274252],\n",
       "       [89.74386432],\n",
       "       [85.64454452],\n",
       "       [69.86502561],\n",
       "       [75.40772182]])"
      ]
     },
     "execution_count": 145,
     "metadata": {},
     "output_type": "execute_result"
    }
   ],
   "source": [
    "my_y[:5]"
   ]
  },
  {
   "cell_type": "code",
   "execution_count": 146,
   "metadata": {},
   "outputs": [],
   "source": [
    "df2 = df.copy()"
   ]
  },
  {
   "cell_type": "code",
   "execution_count": 147,
   "metadata": {},
   "outputs": [],
   "source": [
    "df2['target2'] = my_y"
   ]
  },
  {
   "cell_type": "code",
   "execution_count": 148,
   "metadata": {},
   "outputs": [
    {
     "data": {
      "text/html": [
       "<div>\n",
       "<style scoped>\n",
       "    .dataframe tbody tr th:only-of-type {\n",
       "        vertical-align: middle;\n",
       "    }\n",
       "\n",
       "    .dataframe tbody tr th {\n",
       "        vertical-align: top;\n",
       "    }\n",
       "\n",
       "    .dataframe thead th {\n",
       "        text-align: right;\n",
       "    }\n",
       "</style>\n",
       "<table border=\"1\" class=\"dataframe\">\n",
       "  <thead>\n",
       "    <tr style=\"text-align: right;\">\n",
       "      <th></th>\n",
       "      <th>col1</th>\n",
       "      <th>col2</th>\n",
       "      <th>col3</th>\n",
       "      <th>col4</th>\n",
       "      <th>target</th>\n",
       "      <th>target2</th>\n",
       "    </tr>\n",
       "  </thead>\n",
       "  <tbody>\n",
       "    <tr>\n",
       "      <th>0</th>\n",
       "      <td>0.090890</td>\n",
       "      <td>-0.834129</td>\n",
       "      <td>-0.395749</td>\n",
       "      <td>-0.157402</td>\n",
       "      <td>-7.327345</td>\n",
       "      <td>76.202743</td>\n",
       "    </tr>\n",
       "    <tr>\n",
       "      <th>1</th>\n",
       "      <td>-0.058114</td>\n",
       "      <td>0.845277</td>\n",
       "      <td>-0.210012</td>\n",
       "      <td>1.674146</td>\n",
       "      <td>80.317248</td>\n",
       "      <td>89.743864</td>\n",
       "    </tr>\n",
       "    <tr>\n",
       "      <th>2</th>\n",
       "      <td>0.698483</td>\n",
       "      <td>-0.646179</td>\n",
       "      <td>1.305023</td>\n",
       "      <td>1.084893</td>\n",
       "      <td>53.784497</td>\n",
       "      <td>85.644545</td>\n",
       "    </tr>\n",
       "    <tr>\n",
       "      <th>3</th>\n",
       "      <td>0.037149</td>\n",
       "      <td>-0.454120</td>\n",
       "      <td>-0.400541</td>\n",
       "      <td>-1.009416</td>\n",
       "      <td>-48.348069</td>\n",
       "      <td>69.865026</td>\n",
       "    </tr>\n",
       "    <tr>\n",
       "      <th>4</th>\n",
       "      <td>-0.183731</td>\n",
       "      <td>0.500764</td>\n",
       "      <td>-1.025389</td>\n",
       "      <td>-0.250839</td>\n",
       "      <td>-12.473097</td>\n",
       "      <td>75.407722</td>\n",
       "    </tr>\n",
       "  </tbody>\n",
       "</table>\n",
       "</div>"
      ],
      "text/plain": [
       "       col1      col2      col3      col4     target    target2\n",
       "0  0.090890 -0.834129 -0.395749 -0.157402  -7.327345  76.202743\n",
       "1 -0.058114  0.845277 -0.210012  1.674146  80.317248  89.743864\n",
       "2  0.698483 -0.646179  1.305023  1.084893  53.784497  85.644545\n",
       "3  0.037149 -0.454120 -0.400541 -1.009416 -48.348069  69.865026\n",
       "4 -0.183731  0.500764 -1.025389 -0.250839 -12.473097  75.407722"
      ]
     },
     "execution_count": 148,
     "metadata": {},
     "output_type": "execute_result"
    }
   ],
   "source": [
    "df2.head()"
   ]
  },
  {
   "cell_type": "raw",
   "metadata": {},
   "source": [
    "tt_y = pd.DataFrame(my_y, columns=['target2'])\n",
    "\n",
    "# del df2\n",
    "\n",
    "df2 = pd.merge(df, tt_y, how=\"outer\", left_index=True, right_index=True)\n",
    "\n",
    "df2.head()\n",
    "\n",
    "dataset = df2.values"
   ]
  },
  {
   "cell_type": "code",
   "execution_count": 30,
   "metadata": {},
   "outputs": [],
   "source": [
    "import numpy as np"
   ]
  },
  {
   "cell_type": "markdown",
   "metadata": {},
   "source": [
    "### IQ"
   ]
  },
  {
   "cell_type": "code",
   "execution_count": 149,
   "metadata": {},
   "outputs": [
    {
     "data": {
      "text/plain": [
       "array([[-0.15740173],\n",
       "       [ 1.67414589],\n",
       "       [ 1.08489347],\n",
       "       [-1.00941614]])"
      ]
     },
     "execution_count": 149,
     "metadata": {},
     "output_type": "execute_result"
    }
   ],
   "source": [
    "arr_iq = dataset[:,3:4] # 행, 열\n",
    "arr_iq[:4]"
   ]
  },
  {
   "cell_type": "code",
   "execution_count": 150,
   "metadata": {},
   "outputs": [],
   "source": [
    "scaler = MinMaxScaler(feature_range=(85, 145))"
   ]
  },
  {
   "cell_type": "code",
   "execution_count": 151,
   "metadata": {},
   "outputs": [
    {
     "data": {
      "text/plain": [
       "MinMaxScaler(feature_range=(85, 145))"
      ]
     },
     "execution_count": 151,
     "metadata": {},
     "output_type": "execute_result"
    }
   ],
   "source": [
    "scaler.fit(arr_iq)"
   ]
  },
  {
   "cell_type": "code",
   "execution_count": 154,
   "metadata": {},
   "outputs": [
    {
     "data": {
      "text/plain": [
       "array([[107.71999283],\n",
       "       [128.88371604],\n",
       "       [122.074843  ],\n",
       "       [ 97.87487773],\n",
       "       [106.64030999]])"
      ]
     },
     "execution_count": 154,
     "metadata": {},
     "output_type": "execute_result"
    }
   ],
   "source": [
    "iq_f = scaler.transform(arr_iq)\n",
    "iq_f[:5]"
   ]
  },
  {
   "cell_type": "code",
   "execution_count": 161,
   "metadata": {},
   "outputs": [],
   "source": [
    "df2['IQ'] = iq_f + np.random.randint(-10,10,size=(100,1))"
   ]
  },
  {
   "cell_type": "code",
   "execution_count": 158,
   "metadata": {},
   "outputs": [
    {
     "data": {
      "text/html": [
       "<div>\n",
       "<style scoped>\n",
       "    .dataframe tbody tr th:only-of-type {\n",
       "        vertical-align: middle;\n",
       "    }\n",
       "\n",
       "    .dataframe tbody tr th {\n",
       "        vertical-align: top;\n",
       "    }\n",
       "\n",
       "    .dataframe thead th {\n",
       "        text-align: right;\n",
       "    }\n",
       "</style>\n",
       "<table border=\"1\" class=\"dataframe\">\n",
       "  <thead>\n",
       "    <tr style=\"text-align: right;\">\n",
       "      <th></th>\n",
       "      <th>col1</th>\n",
       "      <th>col2</th>\n",
       "      <th>col3</th>\n",
       "      <th>col4</th>\n",
       "      <th>target</th>\n",
       "      <th>target2</th>\n",
       "      <th>IQ</th>\n",
       "    </tr>\n",
       "  </thead>\n",
       "  <tbody>\n",
       "    <tr>\n",
       "      <th>0</th>\n",
       "      <td>0.090890</td>\n",
       "      <td>-0.834129</td>\n",
       "      <td>-0.395749</td>\n",
       "      <td>-0.157402</td>\n",
       "      <td>-7.327345</td>\n",
       "      <td>76.202743</td>\n",
       "      <td>111.719993</td>\n",
       "    </tr>\n",
       "    <tr>\n",
       "      <th>1</th>\n",
       "      <td>-0.058114</td>\n",
       "      <td>0.845277</td>\n",
       "      <td>-0.210012</td>\n",
       "      <td>1.674146</td>\n",
       "      <td>80.317248</td>\n",
       "      <td>89.743864</td>\n",
       "      <td>125.883716</td>\n",
       "    </tr>\n",
       "    <tr>\n",
       "      <th>2</th>\n",
       "      <td>0.698483</td>\n",
       "      <td>-0.646179</td>\n",
       "      <td>1.305023</td>\n",
       "      <td>1.084893</td>\n",
       "      <td>53.784497</td>\n",
       "      <td>85.644545</td>\n",
       "      <td>121.074843</td>\n",
       "    </tr>\n",
       "    <tr>\n",
       "      <th>3</th>\n",
       "      <td>0.037149</td>\n",
       "      <td>-0.454120</td>\n",
       "      <td>-0.400541</td>\n",
       "      <td>-1.009416</td>\n",
       "      <td>-48.348069</td>\n",
       "      <td>69.865026</td>\n",
       "      <td>100.874878</td>\n",
       "    </tr>\n",
       "    <tr>\n",
       "      <th>4</th>\n",
       "      <td>-0.183731</td>\n",
       "      <td>0.500764</td>\n",
       "      <td>-1.025389</td>\n",
       "      <td>-0.250839</td>\n",
       "      <td>-12.473097</td>\n",
       "      <td>75.407722</td>\n",
       "      <td>107.640310</td>\n",
       "    </tr>\n",
       "  </tbody>\n",
       "</table>\n",
       "</div>"
      ],
      "text/plain": [
       "       col1      col2      col3      col4     target    target2          IQ\n",
       "0  0.090890 -0.834129 -0.395749 -0.157402  -7.327345  76.202743  111.719993\n",
       "1 -0.058114  0.845277 -0.210012  1.674146  80.317248  89.743864  125.883716\n",
       "2  0.698483 -0.646179  1.305023  1.084893  53.784497  85.644545  121.074843\n",
       "3  0.037149 -0.454120 -0.400541 -1.009416 -48.348069  69.865026  100.874878\n",
       "4 -0.183731  0.500764 -1.025389 -0.250839 -12.473097  75.407722  107.640310"
      ]
     },
     "execution_count": 158,
     "metadata": {},
     "output_type": "execute_result"
    }
   ],
   "source": [
    "# df2['randint1'] = np.random.randint(-5,5,size=(100,1))\n",
    "df2.head()"
   ]
  },
  {
   "cell_type": "code",
   "execution_count": 32,
   "metadata": {},
   "outputs": [],
   "source": [
    "# df2['IQ'] = df2['IQ'] + df2['randint1']"
   ]
  },
  {
   "cell_type": "code",
   "execution_count": 162,
   "metadata": {},
   "outputs": [
    {
     "data": {
      "text/html": [
       "<div>\n",
       "<style scoped>\n",
       "    .dataframe tbody tr th:only-of-type {\n",
       "        vertical-align: middle;\n",
       "    }\n",
       "\n",
       "    .dataframe tbody tr th {\n",
       "        vertical-align: top;\n",
       "    }\n",
       "\n",
       "    .dataframe thead th {\n",
       "        text-align: right;\n",
       "    }\n",
       "</style>\n",
       "<table border=\"1\" class=\"dataframe\">\n",
       "  <thead>\n",
       "    <tr style=\"text-align: right;\">\n",
       "      <th></th>\n",
       "      <th>col1</th>\n",
       "      <th>col2</th>\n",
       "      <th>col3</th>\n",
       "      <th>col4</th>\n",
       "      <th>target</th>\n",
       "      <th>target2</th>\n",
       "      <th>IQ</th>\n",
       "    </tr>\n",
       "  </thead>\n",
       "  <tbody>\n",
       "    <tr>\n",
       "      <th>count</th>\n",
       "      <td>100.000000</td>\n",
       "      <td>100.000000</td>\n",
       "      <td>100.000000</td>\n",
       "      <td>100.000000</td>\n",
       "      <td>100.000000</td>\n",
       "      <td>100.000000</td>\n",
       "      <td>100.000000</td>\n",
       "    </tr>\n",
       "    <tr>\n",
       "      <th>mean</th>\n",
       "      <td>0.147619</td>\n",
       "      <td>-0.117122</td>\n",
       "      <td>-0.086679</td>\n",
       "      <td>0.022793</td>\n",
       "      <td>1.456798</td>\n",
       "      <td>77.559896</td>\n",
       "      <td>108.712158</td>\n",
       "    </tr>\n",
       "    <tr>\n",
       "      <th>std</th>\n",
       "      <td>1.005218</td>\n",
       "      <td>1.001476</td>\n",
       "      <td>0.975964</td>\n",
       "      <td>1.084677</td>\n",
       "      <td>52.429399</td>\n",
       "      <td>8.100361</td>\n",
       "      <td>13.330042</td>\n",
       "    </tr>\n",
       "    <tr>\n",
       "      <th>min</th>\n",
       "      <td>-2.525638</td>\n",
       "      <td>-2.335836</td>\n",
       "      <td>-2.522359</td>\n",
       "      <td>-2.123632</td>\n",
       "      <td>-99.254262</td>\n",
       "      <td>62.000000</td>\n",
       "      <td>78.000000</td>\n",
       "    </tr>\n",
       "    <tr>\n",
       "      <th>25%</th>\n",
       "      <td>-0.350613</td>\n",
       "      <td>-0.666895</td>\n",
       "      <td>-0.592433</td>\n",
       "      <td>-0.766886</td>\n",
       "      <td>-38.055922</td>\n",
       "      <td>71.455166</td>\n",
       "      <td>100.111739</td>\n",
       "    </tr>\n",
       "    <tr>\n",
       "      <th>50%</th>\n",
       "      <td>0.050321</td>\n",
       "      <td>-0.000856</td>\n",
       "      <td>-0.024889</td>\n",
       "      <td>-0.065154</td>\n",
       "      <td>-2.888290</td>\n",
       "      <td>76.888578</td>\n",
       "      <td>108.322913</td>\n",
       "    </tr>\n",
       "    <tr>\n",
       "      <th>75%</th>\n",
       "      <td>0.685460</td>\n",
       "      <td>0.503847</td>\n",
       "      <td>0.480195</td>\n",
       "      <td>0.813383</td>\n",
       "      <td>39.613695</td>\n",
       "      <td>83.455150</td>\n",
       "      <td>117.953541</td>\n",
       "    </tr>\n",
       "    <tr>\n",
       "      <th>max</th>\n",
       "      <td>2.937725</td>\n",
       "      <td>2.410667</td>\n",
       "      <td>2.607999</td>\n",
       "      <td>3.068879</td>\n",
       "      <td>146.699846</td>\n",
       "      <td>100.000000</td>\n",
       "      <td>152.000000</td>\n",
       "    </tr>\n",
       "  </tbody>\n",
       "</table>\n",
       "</div>"
      ],
      "text/plain": [
       "             col1        col2        col3        col4      target     target2  \\\n",
       "count  100.000000  100.000000  100.000000  100.000000  100.000000  100.000000   \n",
       "mean     0.147619   -0.117122   -0.086679    0.022793    1.456798   77.559896   \n",
       "std      1.005218    1.001476    0.975964    1.084677   52.429399    8.100361   \n",
       "min     -2.525638   -2.335836   -2.522359   -2.123632  -99.254262   62.000000   \n",
       "25%     -0.350613   -0.666895   -0.592433   -0.766886  -38.055922   71.455166   \n",
       "50%      0.050321   -0.000856   -0.024889   -0.065154   -2.888290   76.888578   \n",
       "75%      0.685460    0.503847    0.480195    0.813383   39.613695   83.455150   \n",
       "max      2.937725    2.410667    2.607999    3.068879  146.699846  100.000000   \n",
       "\n",
       "               IQ  \n",
       "count  100.000000  \n",
       "mean   108.712158  \n",
       "std     13.330042  \n",
       "min     78.000000  \n",
       "25%    100.111739  \n",
       "50%    108.322913  \n",
       "75%    117.953541  \n",
       "max    152.000000  "
      ]
     },
     "execution_count": 162,
     "metadata": {},
     "output_type": "execute_result"
    }
   ],
   "source": [
    "df2.describe()"
   ]
  },
  {
   "cell_type": "code",
   "execution_count": 163,
   "metadata": {},
   "outputs": [
    {
     "data": {
      "text/plain": [
       "<AxesSubplot:xlabel='IQ', ylabel='target2'>"
      ]
     },
     "execution_count": 163,
     "metadata": {},
     "output_type": "execute_result"
    },
    {
     "data": {
      "image/png": "[encoded data removed]",
      "text/plain": [
       "<Figure size 864x504 with 1 Axes>"
      ]
     },
     "metadata": {
      "needs_background": "light"
     },
     "output_type": "display_data"
    }
   ],
   "source": [
    "#  xlim=(0.0, 1.0), ylim=(1.8, -0.8), , alpha=plot_alpha   , s=2\n",
    "df2.plot.scatter('IQ', 'target2', figsize=(12, 7))"
   ]
  },
  {
   "cell_type": "code",
   "execution_count": null,
   "metadata": {},
   "outputs": [],
   "source": []
  },
  {
   "cell_type": "code",
   "execution_count": null,
   "metadata": {},
   "outputs": [],
   "source": []
  },
  {
   "cell_type": "markdown",
   "metadata": {},
   "source": [
    "### 체력"
   ]
  },
  {
   "cell_type": "code",
   "execution_count": 170,
   "metadata": {},
   "outputs": [
    {
     "data": {
      "text/plain": [
       "array([[-0.15740173],\n",
       "       [ 1.67414589],\n",
       "       [ 1.08489347],\n",
       "       [-1.00941614]])"
      ]
     },
     "execution_count": 170,
     "metadata": {},
     "output_type": "execute_result"
    }
   ],
   "source": [
    "arr_체력 = dataset[:,3:4] # 행, 열\n",
    "arr_체력[:4]"
   ]
  },
  {
   "cell_type": "code",
   "execution_count": 171,
   "metadata": {},
   "outputs": [],
   "source": [
    "scaler = MinMaxScaler(feature_range=(50, 100))"
   ]
  },
  {
   "cell_type": "code",
   "execution_count": 172,
   "metadata": {},
   "outputs": [
    {
     "data": {
      "text/plain": [
       "MinMaxScaler(feature_range=(50, 100))"
      ]
     },
     "execution_count": 172,
     "metadata": {},
     "output_type": "execute_result"
    }
   ],
   "source": [
    "scaler.fit(arr_iq)"
   ]
  },
  {
   "cell_type": "code",
   "execution_count": 173,
   "metadata": {},
   "outputs": [
    {
     "data": {
      "text/plain": [
       "array([[68.93332736],\n",
       "       [86.56976337],\n",
       "       [80.8957025 ],\n",
       "       [60.72906477],\n",
       "       [68.03359166]])"
      ]
     },
     "execution_count": 173,
     "metadata": {},
     "output_type": "execute_result"
    }
   ],
   "source": [
    "체력_f = scaler.transform(arr_체력)\n",
    "체력_f[:5]"
   ]
  },
  {
   "cell_type": "code",
   "execution_count": 174,
   "metadata": {},
   "outputs": [],
   "source": []
  },
  {
   "cell_type": "code",
   "execution_count": 181,
   "metadata": {},
   "outputs": [],
   "source": [
    "df2['체력'] = 체력_f + np.random.randint(-13,13,size=(100,1))"
   ]
  },
  {
   "cell_type": "code",
   "execution_count": null,
   "metadata": {},
   "outputs": [],
   "source": []
  },
  {
   "cell_type": "code",
   "execution_count": 183,
   "metadata": {},
   "outputs": [
    {
     "data": {
      "text/plain": [
       "<AxesSubplot:xlabel='체력', ylabel='target2'>"
      ]
     },
     "execution_count": 183,
     "metadata": {},
     "output_type": "execute_result"
    },
    {
     "data": {
      "image/png": "[encoded data removed]",
      "text/plain": [
       "<Figure size 864x504 with 1 Axes>"
      ]
     },
     "metadata": {
      "needs_background": "light"
     },
     "output_type": "display_data"
    }
   ],
   "source": [
    "#  xlim=(0.0, 1.0), ylim=(1.8, -0.8), , alpha=plot_alpha   , s=2\n",
    "df2.plot.scatter('체력', 'target2', figsize=(12, 7))"
   ]
  },
  {
   "cell_type": "code",
   "execution_count": null,
   "metadata": {},
   "outputs": [],
   "source": []
  },
  {
   "cell_type": "markdown",
   "metadata": {},
   "source": [
    "### Hair_Volume"
   ]
  },
  {
   "cell_type": "code",
   "execution_count": 199,
   "metadata": {},
   "outputs": [],
   "source": [
    "# df2.head()"
   ]
  },
  {
   "cell_type": "code",
   "execution_count": 200,
   "metadata": {},
   "outputs": [
    {
     "data": {
      "text/plain": [
       "array([[-0.3957493 ],\n",
       "       [-0.21001153],\n",
       "       [ 1.30502343],\n",
       "       [-0.40054144]])"
      ]
     },
     "execution_count": 200,
     "metadata": {},
     "output_type": "execute_result"
    }
   ],
   "source": [
    "arr_Hair_Volume = dataset[:,2:3] # 행, 열\n",
    "arr_Hair_Volume[:4]"
   ]
  },
  {
   "cell_type": "code",
   "execution_count": 201,
   "metadata": {},
   "outputs": [],
   "source": [
    "scaler = MinMaxScaler(feature_range=(1, 10))"
   ]
  },
  {
   "cell_type": "code",
   "execution_count": 202,
   "metadata": {},
   "outputs": [
    {
     "data": {
      "text/plain": [
       "MinMaxScaler(feature_range=(1, 10))"
      ]
     },
     "execution_count": 202,
     "metadata": {},
     "output_type": "execute_result"
    }
   ],
   "source": [
    "scaler.fit(arr_Hair_Volume)"
   ]
  },
  {
   "cell_type": "code",
   "execution_count": 203,
   "metadata": {},
   "outputs": [
    {
     "data": {
      "text/plain": [
       "array([[4.73063437],\n",
       "       [5.05646736],\n",
       "       [7.71423785],\n",
       "       [4.72222769],\n",
       "       [3.6260803 ]])"
      ]
     },
     "execution_count": 203,
     "metadata": {},
     "output_type": "execute_result"
    }
   ],
   "source": [
    "Hair_Volume_f = scaler.transform(arr_Hair_Volume)\n",
    "Hair_Volume_f[:5]"
   ]
  },
  {
   "cell_type": "code",
   "execution_count": 204,
   "metadata": {},
   "outputs": [],
   "source": [
    "df2['Hair_Volume'] = Hair_Volume_f # iq_f + np.random.randint(-10,10,size=(100,1))"
   ]
  },
  {
   "cell_type": "code",
   "execution_count": 206,
   "metadata": {},
   "outputs": [],
   "source": [
    "# df2.head()"
   ]
  },
  {
   "cell_type": "markdown",
   "metadata": {},
   "source": [
    "### 키"
   ]
  },
  {
   "cell_type": "code",
   "execution_count": 208,
   "metadata": {},
   "outputs": [
    {
     "data": {
      "text/html": [
       "<div>\n",
       "<style scoped>\n",
       "    .dataframe tbody tr th:only-of-type {\n",
       "        vertical-align: middle;\n",
       "    }\n",
       "\n",
       "    .dataframe tbody tr th {\n",
       "        vertical-align: top;\n",
       "    }\n",
       "\n",
       "    .dataframe thead th {\n",
       "        text-align: right;\n",
       "    }\n",
       "</style>\n",
       "<table border=\"1\" class=\"dataframe\">\n",
       "  <thead>\n",
       "    <tr style=\"text-align: right;\">\n",
       "      <th></th>\n",
       "      <th>col1</th>\n",
       "      <th>col2</th>\n",
       "      <th>col3</th>\n",
       "      <th>col4</th>\n",
       "      <th>target</th>\n",
       "      <th>target2</th>\n",
       "      <th>IQ</th>\n",
       "      <th>체력</th>\n",
       "      <th>Hair_Volume</th>\n",
       "    </tr>\n",
       "  </thead>\n",
       "  <tbody>\n",
       "    <tr>\n",
       "      <th>0</th>\n",
       "      <td>0.090890</td>\n",
       "      <td>-0.834129</td>\n",
       "      <td>-0.395749</td>\n",
       "      <td>-0.157402</td>\n",
       "      <td>-7.327345</td>\n",
       "      <td>76.202743</td>\n",
       "      <td>106.719993</td>\n",
       "      <td>62.933327</td>\n",
       "      <td>4.730634</td>\n",
       "    </tr>\n",
       "    <tr>\n",
       "      <th>1</th>\n",
       "      <td>-0.058114</td>\n",
       "      <td>0.845277</td>\n",
       "      <td>-0.210012</td>\n",
       "      <td>1.674146</td>\n",
       "      <td>80.317248</td>\n",
       "      <td>89.743864</td>\n",
       "      <td>126.883716</td>\n",
       "      <td>81.569763</td>\n",
       "      <td>5.056467</td>\n",
       "    </tr>\n",
       "    <tr>\n",
       "      <th>2</th>\n",
       "      <td>0.698483</td>\n",
       "      <td>-0.646179</td>\n",
       "      <td>1.305023</td>\n",
       "      <td>1.084893</td>\n",
       "      <td>53.784497</td>\n",
       "      <td>85.644545</td>\n",
       "      <td>129.074843</td>\n",
       "      <td>80.895703</td>\n",
       "      <td>7.714238</td>\n",
       "    </tr>\n",
       "    <tr>\n",
       "      <th>3</th>\n",
       "      <td>0.037149</td>\n",
       "      <td>-0.454120</td>\n",
       "      <td>-0.400541</td>\n",
       "      <td>-1.009416</td>\n",
       "      <td>-48.348069</td>\n",
       "      <td>69.865026</td>\n",
       "      <td>100.874878</td>\n",
       "      <td>62.729065</td>\n",
       "      <td>4.722228</td>\n",
       "    </tr>\n",
       "    <tr>\n",
       "      <th>4</th>\n",
       "      <td>-0.183731</td>\n",
       "      <td>0.500764</td>\n",
       "      <td>-1.025389</td>\n",
       "      <td>-0.250839</td>\n",
       "      <td>-12.473097</td>\n",
       "      <td>75.407722</td>\n",
       "      <td>100.640310</td>\n",
       "      <td>64.033592</td>\n",
       "      <td>3.626080</td>\n",
       "    </tr>\n",
       "  </tbody>\n",
       "</table>\n",
       "</div>"
      ],
      "text/plain": [
       "       col1      col2      col3      col4     target    target2          IQ  \\\n",
       "0  0.090890 -0.834129 -0.395749 -0.157402  -7.327345  76.202743  106.719993   \n",
       "1 -0.058114  0.845277 -0.210012  1.674146  80.317248  89.743864  126.883716   \n",
       "2  0.698483 -0.646179  1.305023  1.084893  53.784497  85.644545  129.074843   \n",
       "3  0.037149 -0.454120 -0.400541 -1.009416 -48.348069  69.865026  100.874878   \n",
       "4 -0.183731  0.500764 -1.025389 -0.250839 -12.473097  75.407722  100.640310   \n",
       "\n",
       "          체력  Hair_Volume  \n",
       "0  62.933327     4.730634  \n",
       "1  81.569763     5.056467  \n",
       "2  80.895703     7.714238  \n",
       "3  62.729065     4.722228  \n",
       "4  64.033592     3.626080  "
      ]
     },
     "execution_count": 208,
     "metadata": {},
     "output_type": "execute_result"
    }
   ],
   "source": [
    "df2.head()"
   ]
  },
  {
   "cell_type": "code",
   "execution_count": 209,
   "metadata": {},
   "outputs": [
    {
     "data": {
      "text/plain": [
       "array([[-0.15740173],\n",
       "       [ 1.67414589],\n",
       "       [ 1.08489347],\n",
       "       [-1.00941614]])"
      ]
     },
     "execution_count": 209,
     "metadata": {},
     "output_type": "execute_result"
    }
   ],
   "source": [
    "arr_키 = dataset[:,3:4] # 행, 열\n",
    "arr_키[:4]"
   ]
  },
  {
   "cell_type": "code",
   "execution_count": 210,
   "metadata": {},
   "outputs": [],
   "source": [
    "scaler = MinMaxScaler(feature_range=(155, 190))"
   ]
  },
  {
   "cell_type": "code",
   "execution_count": 211,
   "metadata": {},
   "outputs": [
    {
     "data": {
      "text/plain": [
       "MinMaxScaler(feature_range=(155, 190))"
      ]
     },
     "execution_count": 211,
     "metadata": {},
     "output_type": "execute_result"
    }
   ],
   "source": [
    "scaler.fit(arr_키)"
   ]
  },
  {
   "cell_type": "code",
   "execution_count": 212,
   "metadata": {},
   "outputs": [
    {
     "data": {
      "text/plain": [
       "array([[168.25332915],\n",
       "       [180.59883436],\n",
       "       [176.62699175],\n",
       "       [162.51034534],\n",
       "       [167.62351416]])"
      ]
     },
     "execution_count": 212,
     "metadata": {},
     "output_type": "execute_result"
    }
   ],
   "source": [
    "키_f = scaler.transform(arr_키)\n",
    "키_f[:5]"
   ]
  },
  {
   "cell_type": "code",
   "execution_count": 213,
   "metadata": {},
   "outputs": [],
   "source": [
    "df2['키'] = 키_f # iq_f + np.random.randint(-10,10,size=(100,1))"
   ]
  },
  {
   "cell_type": "code",
   "execution_count": 214,
   "metadata": {},
   "outputs": [],
   "source": [
    "# df2.head()"
   ]
  },
  {
   "cell_type": "code",
   "execution_count": null,
   "metadata": {},
   "outputs": [],
   "source": []
  },
  {
   "cell_type": "code",
   "execution_count": 215,
   "metadata": {},
   "outputs": [
    {
     "data": {
      "text/html": [
       "<div>\n",
       "<style scoped>\n",
       "    .dataframe tbody tr th:only-of-type {\n",
       "        vertical-align: middle;\n",
       "    }\n",
       "\n",
       "    .dataframe tbody tr th {\n",
       "        vertical-align: top;\n",
       "    }\n",
       "\n",
       "    .dataframe thead th {\n",
       "        text-align: right;\n",
       "    }\n",
       "</style>\n",
       "<table border=\"1\" class=\"dataframe\">\n",
       "  <thead>\n",
       "    <tr style=\"text-align: right;\">\n",
       "      <th></th>\n",
       "      <th>col1</th>\n",
       "      <th>col2</th>\n",
       "      <th>col3</th>\n",
       "      <th>col4</th>\n",
       "      <th>target</th>\n",
       "      <th>target2</th>\n",
       "      <th>IQ</th>\n",
       "      <th>체력</th>\n",
       "      <th>Hair_Volume</th>\n",
       "      <th>키</th>\n",
       "    </tr>\n",
       "  </thead>\n",
       "  <tbody>\n",
       "    <tr>\n",
       "      <th>0</th>\n",
       "      <td>0.090890</td>\n",
       "      <td>-0.834129</td>\n",
       "      <td>-0.395749</td>\n",
       "      <td>-0.157402</td>\n",
       "      <td>-7.327345</td>\n",
       "      <td>76.202743</td>\n",
       "      <td>106.719993</td>\n",
       "      <td>62.933327</td>\n",
       "      <td>4.730634</td>\n",
       "      <td>168.253329</td>\n",
       "    </tr>\n",
       "    <tr>\n",
       "      <th>1</th>\n",
       "      <td>-0.058114</td>\n",
       "      <td>0.845277</td>\n",
       "      <td>-0.210012</td>\n",
       "      <td>1.674146</td>\n",
       "      <td>80.317248</td>\n",
       "      <td>89.743864</td>\n",
       "      <td>126.883716</td>\n",
       "      <td>81.569763</td>\n",
       "      <td>5.056467</td>\n",
       "      <td>180.598834</td>\n",
       "    </tr>\n",
       "    <tr>\n",
       "      <th>2</th>\n",
       "      <td>0.698483</td>\n",
       "      <td>-0.646179</td>\n",
       "      <td>1.305023</td>\n",
       "      <td>1.084893</td>\n",
       "      <td>53.784497</td>\n",
       "      <td>85.644545</td>\n",
       "      <td>129.074843</td>\n",
       "      <td>80.895703</td>\n",
       "      <td>7.714238</td>\n",
       "      <td>176.626992</td>\n",
       "    </tr>\n",
       "    <tr>\n",
       "      <th>3</th>\n",
       "      <td>0.037149</td>\n",
       "      <td>-0.454120</td>\n",
       "      <td>-0.400541</td>\n",
       "      <td>-1.009416</td>\n",
       "      <td>-48.348069</td>\n",
       "      <td>69.865026</td>\n",
       "      <td>100.874878</td>\n",
       "      <td>62.729065</td>\n",
       "      <td>4.722228</td>\n",
       "      <td>162.510345</td>\n",
       "    </tr>\n",
       "    <tr>\n",
       "      <th>4</th>\n",
       "      <td>-0.183731</td>\n",
       "      <td>0.500764</td>\n",
       "      <td>-1.025389</td>\n",
       "      <td>-0.250839</td>\n",
       "      <td>-12.473097</td>\n",
       "      <td>75.407722</td>\n",
       "      <td>100.640310</td>\n",
       "      <td>64.033592</td>\n",
       "      <td>3.626080</td>\n",
       "      <td>167.623514</td>\n",
       "    </tr>\n",
       "  </tbody>\n",
       "</table>\n",
       "</div>"
      ],
      "text/plain": [
       "       col1      col2      col3      col4     target    target2          IQ  \\\n",
       "0  0.090890 -0.834129 -0.395749 -0.157402  -7.327345  76.202743  106.719993   \n",
       "1 -0.058114  0.845277 -0.210012  1.674146  80.317248  89.743864  126.883716   \n",
       "2  0.698483 -0.646179  1.305023  1.084893  53.784497  85.644545  129.074843   \n",
       "3  0.037149 -0.454120 -0.400541 -1.009416 -48.348069  69.865026  100.874878   \n",
       "4 -0.183731  0.500764 -1.025389 -0.250839 -12.473097  75.407722  100.640310   \n",
       "\n",
       "          체력  Hair_Volume           키  \n",
       "0  62.933327     4.730634  168.253329  \n",
       "1  81.569763     5.056467  180.598834  \n",
       "2  80.895703     7.714238  176.626992  \n",
       "3  62.729065     4.722228  162.510345  \n",
       "4  64.033592     3.626080  167.623514  "
      ]
     },
     "execution_count": 215,
     "metadata": {},
     "output_type": "execute_result"
    }
   ],
   "source": [
    "df2.head()"
   ]
  },
  {
   "cell_type": "raw",
   "metadata": {},
   "source": [
    "columns=['col1', 'col2', 'col3', 'col4', 'target', 'target2', 'IQ', 'randint1']"
   ]
  },
  {
   "cell_type": "raw",
   "metadata": {},
   "source": [
    "df2.columns=columns"
   ]
  },
  {
   "cell_type": "code",
   "execution_count": 216,
   "metadata": {},
   "outputs": [
    {
     "data": {
      "text/html": [
       "<div>\n",
       "<style scoped>\n",
       "    .dataframe tbody tr th:only-of-type {\n",
       "        vertical-align: middle;\n",
       "    }\n",
       "\n",
       "    .dataframe tbody tr th {\n",
       "        vertical-align: top;\n",
       "    }\n",
       "\n",
       "    .dataframe thead th {\n",
       "        text-align: right;\n",
       "    }\n",
       "</style>\n",
       "<table border=\"1\" class=\"dataframe\">\n",
       "  <thead>\n",
       "    <tr style=\"text-align: right;\">\n",
       "      <th></th>\n",
       "      <th>IQ</th>\n",
       "      <th>체력</th>\n",
       "      <th>Hair_Volume</th>\n",
       "      <th>키</th>\n",
       "      <th>target2</th>\n",
       "    </tr>\n",
       "  </thead>\n",
       "  <tbody>\n",
       "    <tr>\n",
       "      <th>0</th>\n",
       "      <td>106.719993</td>\n",
       "      <td>62.933327</td>\n",
       "      <td>4.730634</td>\n",
       "      <td>168.253329</td>\n",
       "      <td>76.202743</td>\n",
       "    </tr>\n",
       "    <tr>\n",
       "      <th>1</th>\n",
       "      <td>126.883716</td>\n",
       "      <td>81.569763</td>\n",
       "      <td>5.056467</td>\n",
       "      <td>180.598834</td>\n",
       "      <td>89.743864</td>\n",
       "    </tr>\n",
       "    <tr>\n",
       "      <th>2</th>\n",
       "      <td>129.074843</td>\n",
       "      <td>80.895703</td>\n",
       "      <td>7.714238</td>\n",
       "      <td>176.626992</td>\n",
       "      <td>85.644545</td>\n",
       "    </tr>\n",
       "    <tr>\n",
       "      <th>3</th>\n",
       "      <td>100.874878</td>\n",
       "      <td>62.729065</td>\n",
       "      <td>4.722228</td>\n",
       "      <td>162.510345</td>\n",
       "      <td>69.865026</td>\n",
       "    </tr>\n",
       "    <tr>\n",
       "      <th>4</th>\n",
       "      <td>100.640310</td>\n",
       "      <td>64.033592</td>\n",
       "      <td>3.626080</td>\n",
       "      <td>167.623514</td>\n",
       "      <td>75.407722</td>\n",
       "    </tr>\n",
       "  </tbody>\n",
       "</table>\n",
       "</div>"
      ],
      "text/plain": [
       "           IQ         체력  Hair_Volume           키    target2\n",
       "0  106.719993  62.933327     4.730634  168.253329  76.202743\n",
       "1  126.883716  81.569763     5.056467  180.598834  89.743864\n",
       "2  129.074843  80.895703     7.714238  176.626992  85.644545\n",
       "3  100.874878  62.729065     4.722228  162.510345  69.865026\n",
       "4  100.640310  64.033592     3.626080  167.623514  75.407722"
      ]
     },
     "execution_count": 216,
     "metadata": {},
     "output_type": "execute_result"
    }
   ],
   "source": [
    "columns=['IQ','체력', 'Hair_Volume', '키','target2']\n",
    "df3 = df2[columns].copy()\n",
    "df3.head()"
   ]
  },
  {
   "cell_type": "raw",
   "metadata": {},
   "source": [
    "#  xlim=(0.0, 1.0), ylim=(1.8, -0.8), , alpha=plot_alpha , s=2\n",
    "df3.plot.scatter('IQ', 'target2', figsize=(12, 7))"
   ]
  },
  {
   "cell_type": "code",
   "execution_count": 217,
   "metadata": {},
   "outputs": [],
   "source": [
    "# df2.plot.scatter?"
   ]
  },
  {
   "cell_type": "code",
   "execution_count": 218,
   "metadata": {},
   "outputs": [],
   "source": [
    "dataset = df3.values"
   ]
  },
  {
   "cell_type": "code",
   "execution_count": 219,
   "metadata": {},
   "outputs": [
    {
     "name": "stdout",
     "output_type": "stream",
     "text": [
      "[[106.71999283  62.93332736   4.73063437 168.25332915]\n",
      " [126.88371604  81.56976337   5.05646736 180.59883436]\n",
      " [129.074843    80.8957025    7.71423785 176.62699175]\n",
      " [100.87487773  62.72906477   4.72222769 162.51034534]\n",
      " [100.64030999  64.03359166   3.6260803  167.62351416]]\n",
      "\n",
      "shape: (100, 4)\n",
      "차원: 2\n"
     ]
    }
   ],
   "source": [
    "X = dataset[:,0:4] # 행, 열\n",
    "print(X[:5])\n",
    "print(\"\")\n",
    "print('shape:', X.shape)\n",
    "print('차원:', X.ndim)"
   ]
  },
  {
   "cell_type": "code",
   "execution_count": 220,
   "metadata": {},
   "outputs": [
    {
     "data": {
      "text/plain": [
       "array([76.20274252, 89.74386432, 85.64454452, 69.86502561, 75.40772182])"
      ]
     },
     "execution_count": 220,
     "metadata": {},
     "output_type": "execute_result"
    }
   ],
   "source": [
    "y = dataset[:,4] # 행, 열\n",
    "y[:5]"
   ]
  },
  {
   "cell_type": "markdown",
   "metadata": {},
   "source": [
    "### 모델을 만들어 확인"
   ]
  },
  {
   "cell_type": "code",
   "execution_count": 221,
   "metadata": {},
   "outputs": [],
   "source": [
    "X_train, y_train = X, y"
   ]
  },
  {
   "cell_type": "code",
   "execution_count": 222,
   "metadata": {},
   "outputs": [],
   "source": [
    "from sklearn import model_selection\n",
    "from sklearn import metrics\n",
    "from sklearn.model_selection import train_test_split\n",
    "from sklearn.linear_model import LinearRegression"
   ]
  },
  {
   "cell_type": "code",
   "execution_count": 223,
   "metadata": {
    "scrolled": true
   },
   "outputs": [
    {
     "data": {
      "text/plain": [
       "LinearRegression()"
      ]
     },
     "execution_count": 223,
     "metadata": {},
     "output_type": "execute_result"
    }
   ],
   "source": [
    "model_lr = LinearRegression()\n",
    "model_lr.fit(X_train, y_train)"
   ]
  },
  {
   "cell_type": "code",
   "execution_count": null,
   "metadata": {},
   "outputs": [],
   "source": []
  },
  {
   "cell_type": "code",
   "execution_count": 224,
   "metadata": {},
   "outputs": [
    {
     "name": "stdout",
     "output_type": "stream",
     "text": [
      "0.9980932497622114\n"
     ]
    }
   ],
   "source": [
    "y_predict = model_lr.predict(X_train) \n",
    "r2 = metrics.r2_score(y_train, y_predict)\n",
    "print(r2) #1.0"
   ]
  },
  {
   "cell_type": "code",
   "execution_count": null,
   "metadata": {},
   "outputs": [],
   "source": []
  },
  {
   "cell_type": "code",
   "execution_count": 66,
   "metadata": {},
   "outputs": [],
   "source": [
    "import numpy as np\n",
    "df['Hair_Volume'] = np.random.randint(4,6,size=(100,1))"
   ]
  },
  {
   "cell_type": "code",
   "execution_count": null,
   "metadata": {},
   "outputs": [],
   "source": []
  },
  {
   "cell_type": "code",
   "execution_count": 225,
   "metadata": {},
   "outputs": [],
   "source": [
    "df3.to_excel('038_회귀_3.xlsx', index= False)"
   ]
  },
  {
   "cell_type": "code",
   "execution_count": null,
   "metadata": {},
   "outputs": [],
   "source": []
  },
  {
   "cell_type": "code",
   "execution_count": null,
   "metadata": {},
   "outputs": [],
   "source": []
  }
 ],
 "metadata": {
  "kernelspec": {
   "display_name": "book",
   "language": "python",
   "name": "book"
  },
  "language_info": {
   "codemirror_mode": {
    "name": "ipython",
    "version": 3
   },
   "file_extension": ".py",
   "mimetype": "text/x-python",
   "name": "python",
   "nbconvert_exporter": "python",
   "pygments_lexer": "ipython3",
   "version": "3.6.12"
  }
 },
 "nbformat": 4,
 "nbformat_minor": 4
}
